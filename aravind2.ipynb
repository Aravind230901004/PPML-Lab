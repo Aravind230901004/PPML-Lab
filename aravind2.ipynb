{
 "cells": [
  {
   "cell_type": "code",
   "execution_count": 10,
   "id": "1d0f2f75",
   "metadata": {},
   "outputs": [
    {
     "name": "stdout",
     "output_type": "stream",
     "text": [
      "[3 4 5 6]\n",
      "[1 3 5 7 9]\n"
     ]
    }
   ],
   "source": [
    "#slicing\n",
    "import numpy as np\n",
    "arr=np.array([1,2,3,4,5,6,7,8,9])\n",
    "slice1=arr[2:6]\n",
    "print(slice1)\n",
    "#slicing with step of 2\n",
    "slice2=arr[::2]\n",
    "print(slice2)"
   ]
  },
  {
   "cell_type": "code",
   "execution_count": 11,
   "id": "34adb9bd",
   "metadata": {},
   "outputs": [
    {
     "name": "stdout",
     "output_type": "stream",
     "text": [
      "[9 8 7 6 5 4 3 2 1]\n"
     ]
    }
   ],
   "source": [
    "#reversed array\n",
    "rev=arr[::-1]\n",
    "print(rev)"
   ]
  },
  {
   "cell_type": "code",
   "execution_count": 25,
   "id": "5c2ed329",
   "metadata": {},
   "outputs": [
    {
     "name": "stdout",
     "output_type": "stream",
     "text": [
      "[[2 3]\n",
      " [5 6]]\n",
      "[1 4 7]\n",
      "[1 2 3]\n"
     ]
    }
   ],
   "source": [
    "#slicing multi-dimensional array\n",
    "a=np.array([[1,2,3],[4,5,6],[7,8,9]])\n",
    "#slice rows 0 to 2, col 1 to 3\n",
    "sub=a[0:2,1:3]\n",
    "print(sub)\n",
    "#extract 1st column\n",
    "col=a[:,0]\n",
    "print(col)\n",
    "#extract 1st row\n",
    "row=a[0,:]\n",
    "print(row)"
   ]
  },
  {
   "cell_type": "code",
   "execution_count": 24,
   "id": "a841e7e2",
   "metadata": {},
   "outputs": [
    {
     "name": "stdout",
     "output_type": "stream",
     "text": [
      "1\n",
      "6\n",
      "5\n"
     ]
    }
   ],
   "source": [
    "#printing element based on index\n",
    "print(a[0,0])\n",
    "print(a[1,2])\n",
    "print(a[1,1])"
   ]
  },
  {
   "cell_type": "code",
   "execution_count": 27,
   "id": "01d405b7",
   "metadata": {},
   "outputs": [
    {
     "name": "stdout",
     "output_type": "stream",
     "text": [
      "20\n",
      "50\n"
     ]
    }
   ],
   "source": [
    "#basic indexing\n",
    "arr=np.array([10,20,30,40,50])\n",
    "print(arr[1])\n",
    "print(arr[-1])"
   ]
  },
  {
   "cell_type": "code",
   "execution_count": 29,
   "id": "d6987559",
   "metadata": {},
   "outputs": [
    {
     "name": "stdout",
     "output_type": "stream",
     "text": [
      "[20 30 40]\n"
     ]
    }
   ],
   "source": [
    "#subset indexing\n",
    "print(arr[1:4])"
   ]
  },
  {
   "cell_type": "code",
   "execution_count": 32,
   "id": "6838566c",
   "metadata": {},
   "outputs": [
    {
     "name": "stdout",
     "output_type": "stream",
     "text": [
      "[30 40 50]\n"
     ]
    }
   ],
   "source": [
    "#printing element based on a condition\n",
    "print(arr[arr>25])"
   ]
  },
  {
   "cell_type": "code",
   "execution_count": 35,
   "id": "47c93ee0",
   "metadata": {},
   "outputs": [
    {
     "name": "stdout",
     "output_type": "stream",
     "text": [
      "[[1 2 5 6]\n",
      " [3 4 7 8]]\n",
      "[[1 2]\n",
      " [3 4]\n",
      " [5 6]\n",
      " [7 8]]\n"
     ]
    }
   ],
   "source": [
    "#horizontal and vertical join\n",
    "arr1=np.array([[1,2],[3,4]])\n",
    "arr2=np.array([[5,6],[7,8]])\n",
    "print(np.hstack((arr1,arr2)))\n",
    "print(np.vstack((arr1,arr2)))"
   ]
  },
  {
   "cell_type": "code",
   "execution_count": 36,
   "id": "2d8ccdb9",
   "metadata": {},
   "outputs": [
    {
     "name": "stdout",
     "output_type": "stream",
     "text": [
      "[[[1 5]\n",
      "  [2 6]]\n",
      "\n",
      " [[3 7]\n",
      "  [4 8]]]\n"
     ]
    }
   ],
   "source": [
    "#depth join\n",
    "print(np.dstack((arr1,arr2)))"
   ]
  },
  {
   "cell_type": "code",
   "execution_count": 48,
   "id": "29a8aaa8",
   "metadata": {},
   "outputs": [
    {
     "name": "stdout",
     "output_type": "stream",
     "text": [
      "[array([1, 2, 3]), array([4, 5, 6])]\n"
     ]
    }
   ],
   "source": [
    "#splitting in numpy\n",
    "a=np.array([1,2,3,4,5,6])\n",
    "print(np.split(a,2))\n"
   ]
  },
  {
   "cell_type": "code",
   "execution_count": 50,
   "id": "6c6fc1be",
   "metadata": {},
   "outputs": [
    {
     "name": "stdout",
     "output_type": "stream",
     "text": [
      "[array([1, 2]), array([3, 4]), array([5]), array([6])]\n"
     ]
    }
   ],
   "source": [
    "print(np.array_split(a,4))"
   ]
  },
  {
   "cell_type": "code",
   "execution_count": null,
   "id": "5b065a7d",
   "metadata": {},
   "outputs": [],
   "source": []
  }
 ],
 "metadata": {
  "kernelspec": {
   "display_name": "Python 3 (ipykernel)",
   "language": "python",
   "name": "python3"
  },
  "language_info": {
   "codemirror_mode": {
    "name": "ipython",
    "version": 3
   },
   "file_extension": ".py",
   "mimetype": "text/x-python",
   "name": "python",
   "nbconvert_exporter": "python",
   "pygments_lexer": "ipython3",
   "version": "3.11.3"
  }
 },
 "nbformat": 4,
 "nbformat_minor": 5
}
